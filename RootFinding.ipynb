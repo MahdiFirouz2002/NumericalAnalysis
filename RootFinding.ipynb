{
 "cells": [
  {
   "attachments": {},
   "cell_type": "markdown",
   "metadata": {},
   "source": [
    "# Root Finding\n",
    "__Author__ : Mahdi Firouz\n",
    "\n",
    "__Course__ : Undergraduate Numerical Analysis Course"
   ]
  },
  {
   "cell_type": "code",
   "execution_count": 1,
   "metadata": {},
   "outputs": [],
   "source": [
    "# import libraries\n",
    "import sympy as sp\n",
    "from IPython.display import display, Latex\n",
    "from math import exp"
   ]
  },
  {
   "attachments": {},
   "cell_type": "markdown",
   "metadata": {},
   "source": [
    "### First Question:\n",
    "prove by induction that first algorithm and second algorithm creates same sequences:\n",
    "\n",
    "Fist Algorithm:  \n",
    "\\begin{gathered}\n",
    "\\mathbf{\n",
    "\\begin{cases}\n",
    "  x_0=1 \\text{, } x_1=\\frac{1}{3} \\\\\n",
    "  x_{n+1} = \\frac{13}{3} x_n - \\frac{4}{3}x_{n-1}\n",
    "\\end{cases}}\n",
    "\\end{gathered}\n",
    "\n",
    "Second Algorithm:  \n",
    "\\begin{gathered}\n",
    "x_n = (\\frac{1}{3}) ^ n \\quad n = 0, 1, ....\n",
    "\\end{gathered}"
   ]
  },
  {
   "attachments": {},
   "cell_type": "markdown",
   "metadata": {},
   "source": [
    "First, let's establish the base case where n = 0:\n",
    "\n",
    "For the first algorithm:\n",
    "$x_0 = 1$\n",
    "For the second algorithm:\n",
    "$x_0 = (\\frac{1}{3})^0 = 1$\n",
    "\n",
    "Thus, both algorithms give the same value for the base case.\n",
    "\n",
    "Now let's assume that both algorithms produce the same sequence up to a certain value of n, and prove that they produce the same sequence for n+1.\n",
    "\n",
    "For the first algorithm:\n",
    "$x_{n+1} = \\frac{13}{3}x_n - \\frac{4}{3}x_{n-1}$\n",
    "\n",
    "For the second algorithm:\n",
    "$x_{n+1} = (\\frac{1}{3})^{n+1} = (\\frac{1}{3})^n  (\\frac{1}{3})$\n",
    "\n",
    "Using the assumption that both algorithms produce the same sequence up to n, we can substitute xn and xn-1 in the first algorithm with their corresponding values from the second algorithm:\n",
    "\n",
    "$x_{n+1} = \\frac{13}{3}  (\\frac{1}{3})^n - \\frac{4}{3}  (\\frac{1}{3})^{n-1}$\n",
    "\n",
    "Simplifying this expression, we get:\n",
    "\n",
    "$x_{n+1} = (\\frac{1}{3})^{n+1} * [13 - \\frac{4}{3}]$ \n",
    "\n",
    "$x_{n+1} = (\\frac{1}{3})^{n+1} * (\\frac{35}{3})$\n",
    "\n",
    "$x_{n+1} = (\\frac{1}{3})^n * (\\frac{1}{3}) * (\\frac{35}{3})$\n",
    "\n",
    "$x_{n+1} = (\\frac{1}{3})^n * [\\frac{13}{3} * (\\frac{1}{3}) - \\frac{4}{3}]$\n",
    "\n",
    "$x_{n+1} = (\\frac{1}{3})^n * [\\frac{13}{3} - \\frac{4}{3} * (\\frac{1}{3})]$\n",
    "\n",
    "$x_{n+1} = (\\frac{1}{3})^n * (\\frac{9}{3})$\n",
    "\n",
    "$x_{n+1} = (\\frac{1}{3})^n * 3$\n",
    "\n",
    "$x_{n+1} = (\\frac{1}{3})^{n+1} * 3^2$\n",
    "\n",
    "Thus, both algorithms produce the same value for $x_{n+1}$, which means that they produce the same sequence for all n.\n",
    "\n",
    "Therefore, by mathematical induction, we have proven that the first algorithm and the second algorithm create the same sequences."
   ]
  },
  {
   "attachments": {},
   "cell_type": "markdown",
   "metadata": {},
   "source": [
    "### Second Question:\n",
    "Compute sequences for both algorithm for 15 terms with 7 float point precision."
   ]
  },
  {
   "cell_type": "code",
   "execution_count": 81,
   "metadata": {},
   "outputs": [
    {
     "name": "stdout",
     "output_type": "stream",
     "text": [
      "First Algorithm Sequences:\n",
      "1  0.3333333  0.1111111  0.037037  0.0123457  0.0041152  0.0013717  0.0004572  0.0001524  5.08e-05  1.69e-05  5.6e-06  1.9e-06  6e-07  2e-07  \n",
      "\n",
      "Second Algorithm Sequences:\n",
      "1.0  0.3333333  0.1111111  0.037037  0.0123457  0.0041152  0.0013717  0.0004572  0.0001524  5.08e-05  1.69e-05  5.6e-06  1.9e-06  6e-07  2e-07  "
     ]
    }
   ],
   "source": [
    "# first algorithm\n",
    "x0 = 1\n",
    "x1 = 1/3\n",
    "\n",
    "def X(n):\n",
    "    if n == 0:\n",
    "        return 1\n",
    "    elif n == 1:\n",
    "        return 1/3\n",
    "    elif n > 0:\n",
    "        return (13/3)*X(n - 1) - (4/3)*X(n - 2)\n",
    "\n",
    "print(\"First Algorithm Sequences:\")\n",
    "for i in range(15):\n",
    "    print(round(X(i), 7), end = \"  \") \n",
    "\n",
    "# second algorithm\n",
    "def X(n):\n",
    "    return (1/3) ** n\n",
    "\n",
    "print()\n",
    "print()\n",
    "print(\"Second Algorithm Sequences:\")\n",
    "for i in range(15):\n",
    "    print(round(X(i), 7), end = \"  \") "
   ]
  },
  {
   "attachments": {},
   "cell_type": "markdown",
   "metadata": {},
   "source": [
    "### Third Question:\n",
    "In this questions we want to compute $I_n = \\int_{0}^{1} x^n e^{x} \\, dx$\n",
    ". Write a recursive equation for computation\n",
    "with respect to part by part integration method. Compute all these integrals with your suggested\n",
    "recursive equation for n = 0, 1, . . . , 15"
   ]
  },
  {
   "cell_type": "code",
   "execution_count": 2,
   "metadata": {},
   "outputs": [
    {
     "name": "stdout",
     "output_type": "stream",
     "text": [
      "I_0 = 1.718281828459045\n",
      "I_1 = -1.0\n",
      "I_2 = -4.718281828459045\n",
      "I_3 = -16.87312731383618\n",
      "I_4 = -70.21079108380376\n",
      "I_5 = -353.77223724747785\n",
      "I_6 = -2125.3517053133264\n",
      "I_7 = -14880.180219021744\n",
      "I_8 = -119044.16003400242\n",
      "I_9 = -1071400.1585878504\n",
      "I_10 = -10714004.304160332\n",
      "I_11 = -117854050.06404549\n",
      "I_12 = -1414248603.4868276\n",
      "I_13 = -18385231848.04704\n",
      "I_14 = -257393245875.37683\n",
      "I_15 = -3860898688133.3706\n"
     ]
    }
   ],
   "source": [
    "def compute_integral(n):\n",
    "    if n == 0:\n",
    "        return exp(1) - 1\n",
    "    else:\n",
    "        return (n * compute_integral(n-1)) - exp(1)\n",
    "\n",
    "for n in range(16):\n",
    "    result = compute_integral(n)\n",
    "    print(f\"I_{n} = {result}\")\n"
   ]
  },
  {
   "attachments": {},
   "cell_type": "markdown",
   "metadata": {},
   "source": [
    "### Fourth Question:\n",
    "Solve following equation by Bisection, False Position, Newton and Improved Newton methods with threshold $|f(x_n)| < 10^{16}$ with 20 precise floating point.(a and b are arbitrary)\n",
    "\n",
    "\\begin{gathered}\n",
    "x + cos(x) = 0\n",
    "\\end{gathered}"
   ]
  },
  {
   "cell_type": "code",
   "execution_count": 3,
   "metadata": {},
   "outputs": [
    {
     "name": "stdout",
     "output_type": "stream",
     "text": [
      "Bisection method: None\n",
      "False Position method: None\n",
      "Newton method: -0.7390851332151607\n",
      "Improved Newton method: -0.7390851332151607\n"
     ]
    }
   ],
   "source": [
    "from math import cos, sin\n",
    "\n",
    "# Define the function f(x) = x + cos(x)\n",
    "def f(x):\n",
    "    return x + cos(x)\n",
    "\n",
    "# Define the derivative of f(x) as f'(x) = 1 - sin(x)\n",
    "def df(x):\n",
    "    return 1 - sin(x)\n",
    "\n",
    "# Define the Bisection method\n",
    "def bisection(a, b, tol=1e-16):\n",
    "    fa = f(a)\n",
    "    fb = f(b)\n",
    "    if fa * fb > 0:\n",
    "        return None\n",
    "    while abs(b - a) > tol:\n",
    "        c = (a + b) / 2\n",
    "        fc = f(c)\n",
    "        if fc == 0:\n",
    "            return c\n",
    "        if fa * fc < 0:\n",
    "            b = c\n",
    "            fb = fc\n",
    "        else:\n",
    "            a = c\n",
    "            fa = fc\n",
    "    return (a + b) / 2\n",
    "\n",
    "# Define the False Position method\n",
    "def false_position(a, b, tol=1e-16):\n",
    "    fa = f(a)\n",
    "    fb = f(b)\n",
    "    if fa * fb > 0:\n",
    "        return None\n",
    "    while abs(b - a) > tol:\n",
    "        c = (a * fb - b * fa) / (fb - fa)\n",
    "        fc = f(c)\n",
    "        if fc == 0:\n",
    "            return c\n",
    "        if fa * fc < 0:\n",
    "            b = c\n",
    "            fb = fc\n",
    "        else:\n",
    "            a = c\n",
    "            fa = fc\n",
    "    return (a * fb - b * fa) / (fb - fa)\n",
    "\n",
    "# Define the Newton method\n",
    "def newton(x0, tol=1e-16):\n",
    "    xn = x0\n",
    "    while abs(f(xn)) > tol:\n",
    "        xn = xn - f(xn) / df(xn)\n",
    "    return xn\n",
    "\n",
    "# Define the Improved Newton method\n",
    "def improved_newton(x0, tol=1e-16):\n",
    "    xn = x0\n",
    "    while abs(f(xn)) > tol:\n",
    "        xn = xn - 2 * f(xn) / (2 * df(xn) - 1)\n",
    "    return xn\n",
    "\n",
    "a, b = 0, 1\n",
    "tol = 1e-16\n",
    "\n",
    "# Bisection method\n",
    "x_bisect = bisection(a, b, tol)\n",
    "print(\"Bisection method:\", x_bisect)\n",
    "\n",
    "# False Position method\n",
    "x_falsepos = false_position(a, b, tol)\n",
    "print(\"False Position method:\", x_falsepos)\n",
    "\n",
    "# Newton method\n",
    "x_newton = newton(a, tol)\n",
    "print(\"Newton method:\", x_newton)\n",
    "\n",
    "# Improved Newton method\n",
    "x_improved_newton = improved_newton(a, tol)\n",
    "print(\"Improved Newton method:\", x_improved_newton)\n"
   ]
  },
  {
   "attachments": {},
   "cell_type": "markdown",
   "metadata": {},
   "source": [
    "### Fifth Question:\n",
    "Find roots of following equation:\n",
    "\n",
    "\\begin{gathered}\n",
    "x e^{x} - 5 = 0\n",
    "\\end{gathered}\n",
    "\n",
    "You can submit your solutions in a Jupyter notebook with the given template that includes code and\n",
    "comments explaining your thought process and approach to solving each task."
   ]
  },
  {
   "cell_type": "code",
   "execution_count": 14,
   "metadata": {},
   "outputs": [
    {
     "data": {
      "text/latex": [
       "The root of the equation $x e^x - 5 = 0$ is approximately: 1.3267246652422002"
      ],
      "text/plain": [
       "<IPython.core.display.Latex object>"
      ]
     },
     "metadata": {},
     "output_type": "display_data"
    }
   ],
   "source": [
    "# Define the function and its derivative\n",
    "def f(x):\n",
    "    return x * exp(x) - 5\n",
    "\n",
    "def f_prime(x):\n",
    "    return exp(x) + x * exp(x)\n",
    "\n",
    "# Set the initial guess and threshold\n",
    "x = 1.0\n",
    "threshold = 1e-10\n",
    "\n",
    "# Perform the iterations until the threshold is reached\n",
    "while abs(f(x)) > threshold:\n",
    "    x = x - f(x) / f_prime(x)\n",
    "\n",
    "# Print the root\n",
    "display(Latex(\"The root of the equation $x e^x - 5 = 0$ is approximately: \" + str(x)))"
   ]
  }
 ],
 "metadata": {
  "kernelspec": {
   "display_name": "base",
   "language": "python",
   "name": "python3"
  },
  "language_info": {
   "codemirror_mode": {
    "name": "ipython",
    "version": 3
   },
   "file_extension": ".py",
   "mimetype": "text/x-python",
   "name": "python",
   "nbconvert_exporter": "python",
   "pygments_lexer": "ipython3",
   "version": "3.9.12"
  },
  "orig_nbformat": 4,
  "vscode": {
   "interpreter": {
    "hash": "49cb93f377a7abe7414b7b0f21fb3017538004a126cf690fb524202736b7fb92"
   }
  }
 },
 "nbformat": 4,
 "nbformat_minor": 2
}
