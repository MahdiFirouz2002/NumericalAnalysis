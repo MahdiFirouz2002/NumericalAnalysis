{
 "cells": [
  {
   "attachments": {},
   "cell_type": "markdown",
   "metadata": {},
   "source": [
    "# Significant Figures\n",
    "__Author__ : Mahdi Firouz\n",
    "\n",
    "__Course__ : Undergraduate Numerical Analysis Course"
   ]
  },
  {
   "cell_type": "code",
   "execution_count": 27,
   "metadata": {},
   "outputs": [],
   "source": [
    "# import libraries\n",
    "import math\n",
    "from prettytable import PrettyTable\n",
    "from IPython.display import display, Math"
   ]
  },
  {
   "attachments": {},
   "cell_type": "markdown",
   "metadata": {},
   "source": [
    "### Problem1:\n",
    "Assume we use ${f(x) = x(\\sqrt{x + 1} - \\sqrt{x})}$ for computing error of losing significant figures for big xs. Compute errors for these six figures:\n",
    "</br>\n",
    "Exact, Approximate, Exact Error, Relative Error, Sum Transformation"
   ]
  },
  {
   "cell_type": "code",
   "execution_count": 11,
   "metadata": {},
   "outputs": [
    {
     "name": "stdout",
     "output_type": "stream",
     "text": [
      "+--------+-------------+-------------+----------+---------------+--------------------+\n",
      "|   x    |   accurate  | approximate |  error   | relativeError | sum transformation |\n",
      "+--------+-------------+-------------+----------+---------------+--------------------+\n",
      "|   1    |  0.4142136  |   0.414214  |   0.0    |      0.0      |      0.585786      |\n",
      "|   10   |  1.5434713  |   1.54347   |  1e-06   |     1e-06     |      0.511912      |\n",
      "|  100   |  4.9875621  |    4.9876   | 3.8e-05  |     8e-06     |      0.501244      |\n",
      "|  1000  |  15.8074374 |    15.807   | 0.000437 |    2.8e-05    |      0.500125      |\n",
      "| 10000  |  49.9987501 |     50.0    | 0.00125  |    2.5e-05    |      0.500012      |\n",
      "| 100000 | 158.1134877 |    158.1    | 0.013488 |    8.5e-05    |      0.500001      |\n",
      "+--------+-------------+-------------+----------+---------------+--------------------+\n"
     ]
    }
   ],
   "source": [
    "f = lambda x: x*(math.sqrt(x+1) - math.sqrt(x))\n",
    "\n",
    "xs = [0] * 6\n",
    "accurate = [0] * 6\n",
    "approximate = [0] * 6\n",
    "error = [0] * 6\n",
    "relativeError = [0] * 6\n",
    "sum_transform = [0] * 6\n",
    "\n",
    "for i in range(6):\n",
    "    xs[i] = 10**i\n",
    "    accurate[i] = round(f(10**i), 7)\n",
    "    approximate[i] = round(10**i * (round(math.sqrt(10**i + 1), 6) - round(math.sqrt(10**i), 6)), 6)\n",
    "    error[i] = round(abs(accurate[i] - approximate[i]), 6)\n",
    "    relativeError[i] = round(error[i] / accurate[i], 6)\n",
    "    sum_transform[i] = round(math.sqrt(xs[i] + 1) / (math.sqrt(xs[i] + 1) + math.sqrt(xs[i])), 6)\n",
    "\n",
    "table = PrettyTable(['x', 'accurate', 'approximate', 'error', 'relativeError', 'sum transformation'])\n",
    "for i in range(6):\n",
    "    table.add_row([xs[i], accurate[i], approximate[i], error[i], relativeError[i], sum_transform[i]])\n",
    "print(table)"
   ]
  },
  {
   "attachments": {},
   "cell_type": "markdown",
   "metadata": {},
   "source": [
    "### Problem2:\n",
    "(a) Compute rounding of $\\sqrt{2}$, $\\sqrt{3}$ and $\\sqrt{23}$ with three precise figures.\n",
    "<br/>\n",
    "(b) Compute rounding of $\\sqrt{2}$, $\\sqrt{3}$ and $\\sqrt{23}$ with four precise figures.\n",
    "<br/>\n",
    "(c) Compute Error for each of them in above sections\n",
    "<br/>\n",
    "(d) Consider we use $f(x) = \\frac{1 - cos(x)}{x ^ 2}$ for computing error of losing significant figures for small xs."
   ]
  },
  {
   "cell_type": "code",
   "execution_count": 34,
   "metadata": {},
   "outputs": [
    {
     "name": "stdout",
     "output_type": "stream",
     "text": [
      "calculation until 3 precise figures\n"
     ]
    },
    {
     "data": {
      "text/latex": [
       "$\\displaystyle \\sqrt2 ≈ 1.414$"
      ],
      "text/plain": [
       "<IPython.core.display.Math object>"
      ]
     },
     "metadata": {},
     "output_type": "display_data"
    },
    {
     "data": {
      "text/latex": [
       "$\\displaystyle \\sqrt3 ≈ 1.732$"
      ],
      "text/plain": [
       "<IPython.core.display.Math object>"
      ]
     },
     "metadata": {},
     "output_type": "display_data"
    },
    {
     "data": {
      "text/latex": [
       "$\\displaystyle \\sqrt23 ≈ 4.796$"
      ],
      "text/plain": [
       "<IPython.core.display.Math object>"
      ]
     },
     "metadata": {},
     "output_type": "display_data"
    }
   ],
   "source": [
    "# a) calculate with three precise figures.\n",
    "sqrt_2 = round(math.sqrt(2), 3)\n",
    "sqrt_3 = round(math.sqrt(3), 3)\n",
    "sqrt_23 = round(math.sqrt(23), 3)\n",
    "\n",
    "print(\"calculation until 3 precise figures\")\n",
    "display(Math(r'\\sqrt{} ≈ {}'.format(2, sqrt_2)))\n",
    "display(Math(r'\\sqrt{} ≈ {}'.format(3, sqrt_3)))\n",
    "display(Math(r'\\sqrt{} ≈ {}'.format(23, sqrt_23)))"
   ]
  },
  {
   "cell_type": "code",
   "execution_count": 35,
   "metadata": {},
   "outputs": [
    {
     "name": "stdout",
     "output_type": "stream",
     "text": [
      "calculation until 4 precise figures\n"
     ]
    },
    {
     "data": {
      "text/latex": [
       "$\\displaystyle \\sqrt2 ≈ 1.4142$"
      ],
      "text/plain": [
       "<IPython.core.display.Math object>"
      ]
     },
     "metadata": {},
     "output_type": "display_data"
    },
    {
     "data": {
      "text/latex": [
       "$\\displaystyle \\sqrt3 ≈ 1.7321$"
      ],
      "text/plain": [
       "<IPython.core.display.Math object>"
      ]
     },
     "metadata": {},
     "output_type": "display_data"
    },
    {
     "data": {
      "text/latex": [
       "$\\displaystyle \\sqrt23 ≈ 4.7958$"
      ],
      "text/plain": [
       "<IPython.core.display.Math object>"
      ]
     },
     "metadata": {},
     "output_type": "display_data"
    }
   ],
   "source": [
    "# b) calculate with four precise figures.\n",
    "sqrt_2 = round(math.sqrt(2), 4)\n",
    "sqrt_3 = round(math.sqrt(3), 4)\n",
    "sqrt_23 = round(math.sqrt(23), 4)\n",
    "\n",
    "print(\"calculation until 4 precise figures\")\n",
    "display(Math(r'\\sqrt{} ≈ {}'.format(2, sqrt_2)))\n",
    "display(Math(r'\\sqrt{} ≈ {}'.format(3, sqrt_3)))\n",
    "display(Math(r'\\sqrt{} ≈ {}'.format(23, sqrt_23)))"
   ]
  },
  {
   "cell_type": "code",
   "execution_count": 79,
   "metadata": {},
   "outputs": [
    {
     "data": {
      "text/latex": [
       "$\\displaystyle \\text{Error for }\\sqrt{2}\\text{ with 3 and 4 significant digits: }1.414 - 1.4142 = -0.0002$"
      ],
      "text/plain": [
       "<IPython.core.display.Math object>"
      ]
     },
     "metadata": {},
     "output_type": "display_data"
    },
    {
     "data": {
      "text/latex": [
       "$\\displaystyle \\text{Error for }\\sqrt{3}\\text{ with 3 and 4 significant digits: }1.732 - 1.7321 = -0.0001$"
      ],
      "text/plain": [
       "<IPython.core.display.Math object>"
      ]
     },
     "metadata": {},
     "output_type": "display_data"
    },
    {
     "data": {
      "text/latex": [
       "$\\displaystyle \\text{Error for }\\sqrt{23}\\text{ with 3 and 4 significant digits: }4.796 - 4.7958 = 0.0002$"
      ],
      "text/plain": [
       "<IPython.core.display.Math object>"
      ]
     },
     "metadata": {},
     "output_type": "display_data"
    }
   ],
   "source": [
    "# c) calculate error for two above section.\n",
    "sqrt_2_until3 =  round(math.sqrt(2), 3)\n",
    "sqrt_3_until3 =  round(math.sqrt(3), 3)\n",
    "sqrt_23_until3 =  round(math.sqrt(23), 3)\n",
    "\n",
    "sqrt_2_until4 =  round(math.sqrt(2), 4)\n",
    "sqrt_3_until4 =  round(math.sqrt(3), 4)\n",
    "sqrt_23_until4 =  round(math.sqrt(23), 4)\n",
    "\n",
    "err_2 = round(sqrt_2_until3 - sqrt_2_until4, 4)\n",
    "err_3 = round(sqrt_3_until3 - sqrt_3_until4, 4)\n",
    "err_23 = round(sqrt_23_until3 - sqrt_23_until4, 4)\n",
    "\n",
    "display(Math('\\\\text{Error for }\\\\sqrt{2}\\\\text{ with 3 and 4 significant digits: }' + str(sqrt_2_until3) + ' - ' + str(sqrt_2_until4) + ' = ' + str(err_2)))\n",
    "display(Math('\\\\text{Error for }\\\\sqrt{3}\\\\text{ with 3 and 4 significant digits: }' + str(sqrt_3_until3) + ' - ' + str(sqrt_3_until4) + ' = ' + str(err_3)))\n",
    "display(Math('\\\\text{Error for }\\\\sqrt{23}\\\\text{ with 3 and 4 significant digits: }' + str(sqrt_23_until3) + ' - ' + str(sqrt_23_until4) + ' = ' + str(err_23)))"
   ]
  },
  {
   "cell_type": "code",
   "execution_count": 80,
   "metadata": {},
   "outputs": [
    {
     "name": "stdout",
     "output_type": "stream",
     "text": [
      "+--------+---------------------+-------------+-------------+---------------+---------------------+\n",
      "|   x    |       accurate      | approximate |    error    | relativeError |  sum transformation |\n",
      "+--------+---------------------+-------------+-------------+---------------+---------------------+\n",
      "|   1    | 0.45969769413186023 |    0.4597   |  2.3059e-06 |   5.0161e-06  | 0.45969769413186023 |\n",
      "|  0.1   | 0.49958347219741783 |    0.4996   | 1.65278e-05 |  3.30832e-05  | 0.49958347219742333 |\n",
      "|  0.01  |  0.4999958333473664 |     0.5     |  4.1667e-06 |   8.3335e-06  |  0.4999958333472222 |\n",
      "| 0.001  | 0.49999995832550326 |     0.5     |   4.17e-08  |    8.34e-08   |  0.4999999583333347 |\n",
      "| 0.0001 |  0.4999999969612645 |     0.5     |    3e-09    |     6e-09     |  0.4999999995833334 |\n",
      "| 1e-05  |  0.5000000413701854 |     0.5     |   4.14e-08  |    8.28e-08   |  0.4999999999958333 |\n",
      "+--------+---------------------+-------------+-------------+---------------+---------------------+\n"
     ]
    }
   ],
   "source": [
    "# d)\n",
    "f = lambda x: (1 - math.cos(x))/(x**2)\n",
    "g = lambda x: (math.sin(x) ** 2)/ ((x ** 2)*(1 + math.cos(x)))\n",
    "\n",
    "# initializing variables\n",
    "accurate = [0] * 6\n",
    "approximate = [0] * 6\n",
    "error = [0] * 6\n",
    "relativeError = [0] * 6\n",
    "sumTransformation = [0] * 6\n",
    "\n",
    "# calculation\n",
    "for i in range(6):\n",
    "    accurate[i] = f(10**(-i))\n",
    "    approximate[i] = round(f(10**(-i)), 4)\n",
    "    error[i] = round(abs(accurate[i] - approximate[i]), 10)\n",
    "    relativeError[i] = round(abs(error[i])/abs(accurate[i]), 10)\n",
    "    sumTransformation[i] = g(10**(-i))\n",
    "\n",
    "table = PrettyTable(['x', 'accurate', 'approximate', 'error', 'relativeError', 'sum transformation'])\n",
    "for i in range(6):\n",
    "    table.add_row([10**(-i), accurate[i], approximate[i], error[i], relativeError[i], sumTransformation[i]])\n",
    "print(table)"
   ]
  }
 ],
 "metadata": {
  "kernelspec": {
   "display_name": "base",
   "language": "python",
   "name": "python3"
  },
  "language_info": {
   "codemirror_mode": {
    "name": "ipython",
    "version": 3
   },
   "file_extension": ".py",
   "mimetype": "text/x-python",
   "name": "python",
   "nbconvert_exporter": "python",
   "pygments_lexer": "ipython3",
   "version": "3.9.12"
  },
  "orig_nbformat": 4
 },
 "nbformat": 4,
 "nbformat_minor": 2
}
