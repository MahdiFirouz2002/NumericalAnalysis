{
 "cells": [
  {
   "attachments": {},
   "cell_type": "markdown",
   "metadata": {},
   "source": [
    "# Condition Number\n",
    "__Author:__ Mahdi Firouz\n",
    "\n",
    "__Course:__ Numerical Analysis"
   ]
  },
  {
   "attachments": {},
   "cell_type": "markdown",
   "metadata": {},
   "source": [
    "### Problem:\n",
    "Calculate condition numbers for given functions in given points:\n",
    "<br />\n",
    "a) $f(x) = ln(x), x ≈ 2$\n",
    "<br />\n",
    "b) $f(x) = 5^x, x ≈ 10$\n",
    "<br />\n",
    "c) $f(x) = sin(x), x ≈ 1$\n",
    "<br />\n",
    "d) $f(x) = sin(10x), x ≈ 1$\n",
    "<br />\n",
    "<br />\n",
    "condition number is $\\frac{f'(X_a)}{f(X_t)}X_t$"
   ]
  },
  {
   "cell_type": "code",
   "execution_count": 2,
   "metadata": {},
   "outputs": [],
   "source": [
    "# import libraries\n",
    "import sympy as sp\n",
    "from IPython.display import display, Latex, Math"
   ]
  },
  {
   "cell_type": "code",
   "execution_count": 11,
   "metadata": {},
   "outputs": [
    {
     "data": {
      "text/latex": [
       "$f(x) = ln(x), x ≈ 2$"
      ],
      "text/plain": [
       "<IPython.core.display.Latex object>"
      ]
     },
     "metadata": {},
     "output_type": "display_data"
    },
    {
     "data": {
      "text/latex": [
       "$\\displaystyle f\\prime(x) = \\frac{1}{x}$"
      ],
      "text/plain": [
       "<IPython.core.display.Math object>"
      ]
     },
     "metadata": {},
     "output_type": "display_data"
    },
    {
     "data": {
      "text/latex": [
       "$\\displaystyle \\frac{f\\prime(2)}{f(2.01)}\\times2.01 = 1.43955023038922$"
      ],
      "text/plain": [
       "<IPython.core.display.Math object>"
      ]
     },
     "metadata": {},
     "output_type": "display_data"
    },
    {
     "data": {
      "text/latex": [
       "$\\displaystyle \\frac{f\\prime(2)}{f(2)}\\times2 = 1.0/log(2)$"
      ],
      "text/plain": [
       "<IPython.core.display.Math object>"
      ]
     },
     "metadata": {},
     "output_type": "display_data"
    }
   ],
   "source": [
    "# part a)\n",
    "x = sp.symbols('x')\n",
    "f = lambda x: sp.ln(x)\n",
    "derivative = lambda x: 1/x\n",
    "alpha = 0.01\n",
    "Xa = 2\n",
    "Xt = Xa + alpha\n",
    "conditionNumA = derivative(Xa)/f(Xt)*Xt\n",
    "conditionNumB = derivative(Xa)/f(Xa)*Xa\n",
    "\n",
    "display(Latex(f'$f(x) = ln(x), x ≈ 2$'))\n",
    "display(Math(r'$f\\prime(x) = \\frac{1}{x}$'))\n",
    "display(Math(r'\\frac{f\\prime(' + str(Xa) + ')}{f(' + str(Xt) + ')}' + r'\\times' + str(Xt) + \" = \" + str(conditionNumA)))\n",
    "display(Math(r'\\frac{f\\prime(' + str(Xa) + ')}{f(' + str(Xa) + ')}' + r'\\times' + str(Xa) + \" = \" + str(conditionNumB)))"
   ]
  },
  {
   "cell_type": "code",
   "execution_count": 15,
   "metadata": {},
   "outputs": [
    {
     "data": {
      "text/latex": [
       "$f(x) = 5^x, x ≈ 10$"
      ],
      "text/plain": [
       "<IPython.core.display.Latex object>"
      ]
     },
     "metadata": {},
     "output_type": "display_data"
    },
    {
     "data": {
      "text/latex": [
       "$\\displaystyle f\\prime(x) = 5^{x\\log(5)}$"
      ],
      "text/plain": [
       "<IPython.core.display.Math object>"
      ]
     },
     "metadata": {},
     "output_type": "display_data"
    },
    {
     "data": {
      "text/latex": [
       "$\\displaystyle \\frac{f\\prime(10)}{f(9.99)}\\times9.99 = 1.03957336747628e-6*5**(10*log(5))$"
      ],
      "text/plain": [
       "<IPython.core.display.Math object>"
      ]
     },
     "metadata": {},
     "output_type": "display_data"
    },
    {
     "data": {
      "text/latex": [
       "$\\displaystyle \\frac{f\\prime(10)}{f(10)}\\times10 = 2*5**(10*log(5))/1953125$"
      ],
      "text/plain": [
       "<IPython.core.display.Math object>"
      ]
     },
     "metadata": {},
     "output_type": "display_data"
    }
   ],
   "source": [
    "# part b)\n",
    "x = sp.symbols('x')\n",
    "f = lambda x: 5**x\n",
    "derivative = lambda x: 5**(x*sp.log(5))\n",
    "alpha = 0.01\n",
    "Xa = 10\n",
    "Xt = Xa - alpha\n",
    "conditionNumA = derivative(Xa)/f(Xt)*Xt\n",
    "conditionNumB = derivative(Xa)/f(Xa)*Xa\n",
    "\n",
    "display(Latex(f'$f(x) = 5^x, x ≈ 10$'))\n",
    "display(Math(r'$f\\prime(x) = 5^{x\\log(5)}$'))\n",
    "display(Math(r'\\frac{f\\prime(' + str(Xa) + ')}{f(' + str(Xt) + ')}' + r'\\times' + str(Xt) + \" = \" + str(conditionNumA)))\n",
    "display(Math(r'\\frac{f\\prime(' + str(Xa) + ')}{f(' + str(Xa) + ')}' + r'\\times' + str(Xa) + \" = \" + str(conditionNumB)))"
   ]
  },
  {
   "cell_type": "code",
   "execution_count": 13,
   "metadata": {},
   "outputs": [
    {
     "data": {
      "text/latex": [
       "$f(x) = sin(x), x ≈ 1$"
      ],
      "text/plain": [
       "<IPython.core.display.Latex object>"
      ]
     },
     "metadata": {},
     "output_type": "display_data"
    },
    {
     "data": {
      "text/latex": [
       "$\\displaystyle f\\prime(x) = cos(x)$"
      ],
      "text/plain": [
       "<IPython.core.display.Math object>"
      ]
     },
     "metadata": {},
     "output_type": "display_data"
    },
    {
     "data": {
      "text/latex": [
       "$\\displaystyle \\frac{f\\prime(1)}{f(0.99)}\\times0.99 = 1.18417372825809*cos(1)$"
      ],
      "text/plain": [
       "<IPython.core.display.Math object>"
      ]
     },
     "metadata": {},
     "output_type": "display_data"
    },
    {
     "data": {
      "text/latex": [
       "$\\displaystyle \\frac{f\\prime(1)}{f(1)}\\times1 = cos(1)/sin(1)$"
      ],
      "text/plain": [
       "<IPython.core.display.Math object>"
      ]
     },
     "metadata": {},
     "output_type": "display_data"
    }
   ],
   "source": [
    "# part c)\n",
    "x = sp.symbols('x')\n",
    "f = lambda x: sp.sin(x)\n",
    "derivative = lambda x: sp.cos(x)\n",
    "alpha = 0.01\n",
    "Xa = 1\n",
    "Xt = Xa - alpha\n",
    "conditionNumA = derivative(Xa)/f(Xt)*Xt\n",
    "conditionNumB = derivative(Xa)/f(Xa)*Xa\n",
    "\n",
    "display(Latex(f'$f(x) = sin(x), x ≈ 1$'))\n",
    "display(Math(r'$f\\prime(x) = cos(x)$'))\n",
    "display(Math(r'\\frac{f\\prime(' + str(Xa) + ')}{f(' + str(Xt) + ')}' + r'\\times' + str(Xt) + \" = \" + str(conditionNumA)))\n",
    "display(Math(r'\\frac{f\\prime(' + str(Xa) + ')}{f(' + str(Xa) + ')}' + r'\\times' + str(Xa) + \" = \" + str(conditionNumB)))"
   ]
  },
  {
   "cell_type": "code",
   "execution_count": 14,
   "metadata": {},
   "outputs": [
    {
     "data": {
      "text/latex": [
       "$f(x) = sin(10x), x ≈ 1$"
      ],
      "text/plain": [
       "<IPython.core.display.Latex object>"
      ]
     },
     "metadata": {},
     "output_type": "display_data"
    },
    {
     "data": {
      "text/latex": [
       "$\\displaystyle f\\prime(x) = 10 \\times cos(10x)$"
      ],
      "text/plain": [
       "<IPython.core.display.Math object>"
      ]
     },
     "metadata": {},
     "output_type": "display_data"
    },
    {
     "data": {
      "text/latex": [
       "$\\displaystyle \\frac{f\\prime(1)}{f(0.99)}\\times0.99 = -21.6376466517434*cos(10)$"
      ],
      "text/plain": [
       "<IPython.core.display.Math object>"
      ]
     },
     "metadata": {},
     "output_type": "display_data"
    },
    {
     "data": {
      "text/latex": [
       "$\\displaystyle \\frac{f\\prime(1)}{f(1)}\\times1 = 10*cos(10)/sin(10)$"
      ],
      "text/plain": [
       "<IPython.core.display.Math object>"
      ]
     },
     "metadata": {},
     "output_type": "display_data"
    }
   ],
   "source": [
    "# part d)\n",
    "x = sp.symbols('x')\n",
    "f = lambda x: sp.sin(10 * x)\n",
    "derivative = lambda x: 10 * sp.cos(10 * x)\n",
    "alpha = 0.01\n",
    "Xa = 1\n",
    "Xt = Xa - alpha\n",
    "conditionNumA = derivative(Xa)/f(Xt)*Xt\n",
    "conditionNumB = derivative(Xa)/f(Xa)*Xa\n",
    "\n",
    "display(Latex(f'$f(x) = sin(10x), x ≈ 1$'))\n",
    "display(Math(r'$f\\prime(x) = 10 \\times cos(10x)$'))\n",
    "display(Math(r'\\frac{f\\prime(' + str(Xa) + ')}{f(' + str(Xt) + ')}' + r'\\times' + str(Xt) + \" = \" + str(conditionNumA)))\n",
    "display(Math(r'\\frac{f\\prime(' + str(Xa) + ')}{f(' + str(Xa) + ')}' + r'\\times' + str(Xa) + \" = \" + str(conditionNumB)))"
   ]
  }
 ],
 "metadata": {
  "kernelspec": {
   "display_name": "base",
   "language": "python",
   "name": "python3"
  },
  "language_info": {
   "codemirror_mode": {
    "name": "ipython",
    "version": 3
   },
   "file_extension": ".py",
   "mimetype": "text/x-python",
   "name": "python",
   "nbconvert_exporter": "python",
   "pygments_lexer": "ipython3",
   "version": "3.9.12"
  },
  "orig_nbformat": 4
 },
 "nbformat": 4,
 "nbformat_minor": 2
}
