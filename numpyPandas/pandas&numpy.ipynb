{
 "cells": [
  {
   "attachments": {},
   "cell_type": "markdown",
   "id": "ed461280",
   "metadata": {},
   "source": [
    "# pandas & numpy\n",
    "__Author:__ Mahdi Firouz\n",
    "\n",
    "__Course:__ Numerical Analysis"
   ]
  },
  {
   "cell_type": "code",
   "execution_count": 1,
   "id": "7baf3d58",
   "metadata": {},
   "outputs": [],
   "source": [
    "# import libraries\n",
    "import pandas as pd\n",
    "import numpy as np"
   ]
  },
  {
   "cell_type": "markdown",
   "id": "c1c17401",
   "metadata": {},
   "source": [
    "##### NumPy Tasks:\n",
    "(a) Load the temperatures.csv file into a Numpy array. What is the shape of the array?"
   ]
  },
  {
   "cell_type": "code",
   "execution_count": 2,
   "id": "15e4c536",
   "metadata": {},
   "outputs": [
    {
     "name": "stdout",
     "output_type": "stream",
     "text": [
      "temperatures.csv shape: (51, 3)\n"
     ]
    }
   ],
   "source": [
    "# Load the CSV file using pandas\n",
    "df = pd.read_csv('tempratures.csv')\n",
    "\n",
    "# Convert the pandas DataFrame to a NumPy array\n",
    "data = df.values\n",
    "\n",
    "# Print the shape of the array\n",
    "print(\"temperatures.csv shape:\", data.shape)"
   ]
  },
  {
   "cell_type": "markdown",
   "id": "c2303468",
   "metadata": {},
   "source": [
    "(b) Calculate the average temperature for each city. What is the average temperature for each city\n",
    "in the dataset?"
   ]
  },
  {
   "cell_type": "code",
   "execution_count": 3,
   "id": "bc257efb",
   "metadata": {},
   "outputs": [
    {
     "name": "stdout",
     "output_type": "stream",
     "text": [
      "city\n",
      "Los Angeles    20.529412\n",
      "Miami          22.617647\n",
      "New York        0.158824\n",
      "Name: temperature, dtype: float64\n"
     ]
    }
   ],
   "source": [
    "# Calculate the mean temperature for each city\n",
    "avg_temperatures = df.groupby('city')['temperature'].mean()\n",
    "\n",
    "# Print the average temperature for each city\n",
    "print(avg_temperatures)"
   ]
  },
  {
   "cell_type": "markdown",
   "id": "3ba2a5d9",
   "metadata": {},
   "source": [
    "(c) Calculate the maximum temperature for each city. What is the maximum temperature for\n",
    "each city in the dataset?"
   ]
  },
  {
   "cell_type": "code",
   "execution_count": 4,
   "id": "d132f146",
   "metadata": {},
   "outputs": [
    {
     "name": "stdout",
     "output_type": "stream",
     "text": [
      "city\n",
      "Los Angeles    24.4\n",
      "Miami          25.8\n",
      "New York        5.8\n",
      "Name: temperature, dtype: float64\n"
     ]
    }
   ],
   "source": [
    "# Calculate the max temperature for each city\n",
    "max_temperatures = df.groupby('city')['temperature'].max()\n",
    "\n",
    "# Print the max temperature for each city\n",
    "print(max_temperatures)"
   ]
  },
  {
   "cell_type": "markdown",
   "id": "57b8db8e",
   "metadata": {},
   "source": [
    "##### Pandas Tasks :\n",
    "(a) Load the temperatures.csv file into a Pandas DataFrame. What is the shape of the DataFrame?"
   ]
  },
  {
   "cell_type": "code",
   "execution_count": 5,
   "id": "3105397a",
   "metadata": {},
   "outputs": [
    {
     "name": "stdout",
     "output_type": "stream",
     "text": [
      "(51, 3)\n"
     ]
    }
   ],
   "source": [
    "# Print the shape of the DataFrame\n",
    "print(df.shape)"
   ]
  },
  {
   "cell_type": "markdown",
   "id": "8116d212",
   "metadata": {},
   "source": [
    "b) Calculate the median temperature for each city. What is the median temperature for each city\n",
    "in the dataset?"
   ]
  },
  {
   "cell_type": "code",
   "execution_count": 6,
   "id": "53794f78",
   "metadata": {},
   "outputs": [
    {
     "name": "stdout",
     "output_type": "stream",
     "text": [
      "city\n",
      "Los Angeles    20.5\n",
      "Miami          22.6\n",
      "New York        0.5\n",
      "Name: temperature, dtype: float64\n"
     ]
    }
   ],
   "source": [
    "# Calculate the median temperature for each city\n",
    "median_temperatures = df.groupby('city')['temperature'].median()\n",
    "\n",
    "# Print the median temperature for each city\n",
    "print(median_temperatures)"
   ]
  },
  {
   "cell_type": "markdown",
   "id": "64de27de",
   "metadata": {},
   "source": [
    "(c) Calculate the daily temperature range for each city. What is the difference between the maximum and minimum temperature for each city in the dataset?"
   ]
  },
  {
   "cell_type": "code",
   "execution_count": 7,
   "id": "ceb01f35",
   "metadata": {},
   "outputs": [
    {
     "name": "stdout",
     "output_type": "stream",
     "text": [
      "city\n",
      "Los Angeles     8.5\n",
      "Miami           6.1\n",
      "New York       13.1\n",
      "Name: temperature, dtype: float64\n"
     ]
    }
   ],
   "source": [
    "# Calculate the temperature range for each city\n",
    "temp_range = df.groupby('city')['temperature'].apply(lambda x: x.max() - x.min())\n",
    "\n",
    "# Print the temperature range for each city\n",
    "print(temp_range)"
   ]
  },
  {
   "cell_type": "markdown",
   "id": "e980b745",
   "metadata": {},
   "source": [
    "##### Bonus Task :\n",
    "Merge the temperatures.csv file with a second CSV file called cities.csv which contains information about the cities. The two files can be merged on the common column city. Once merged, create\n",
    "a new column in the resulting DataFrame which indicates whether the temperature was above or\n",
    "below the average temperature for that city"
   ]
  },
  {
   "cell_type": "code",
   "execution_count": 19,
   "id": "506c9d15",
   "metadata": {},
   "outputs": [
    {
     "name": "stdout",
     "output_type": "stream",
     "text": [
      "          date      city  temperature country  above_avg_temp\n",
      "0   2022-01-01  New York          0.5     USA            True\n",
      "1   2022-01-02  New York          2.3     USA            True\n",
      "2   2022-01-03  New York          4.8     USA            True\n",
      "3   2022-01-04  New York          3.2     USA            True\n",
      "4   2022-01-05  New York         -1.9     USA           False\n",
      "5   2022-01-06  New York         -2.1     USA           False\n",
      "6   2022-01-07  New York          1.3     USA            True\n",
      "7   2022-01-08  New York          4.2     USA            True\n",
      "8   2022-01-09  New York          5.8     USA            True\n",
      "9   2022-01-10  New York         -1.1     USA           False\n",
      "10  2022-01-11  New York         -4.6     USA           False\n",
      "11  2022-01-12  New York         -7.3     USA           False\n",
      "12  2022-01-13  New York         -2.4     USA           False\n",
      "13  2022-01-14  New York          1.5     USA            True\n",
      "14  2022-01-15  New York          2.1     USA            True\n",
      "15  2022-01-16  New York         -0.9     USA           False\n",
      "16  2022-01-17  New York         -2.7     USA           False\n",
      "17  2022-01-01     Miami         24.7     USA            True\n",
      "18  2022-01-02     Miami         22.9     USA            True\n",
      "19  2022-01-03     Miami         21.2     USA           False\n",
      "20  2022-01-04     Miami         23.5     USA            True\n",
      "21  2022-01-05     Miami         20.1     USA           False\n",
      "22  2022-01-06     Miami         25.3     USA            True\n",
      "23  2022-01-07     Miami         21.8     USA           False\n",
      "24  2022-01-08     Miami         22.4     USA           False\n",
      "25  2022-01-09     Miami         20.5     USA           False\n",
      "26  2022-01-10     Miami         23.1     USA            True\n",
      "27  2022-01-11     Miami         25.8     USA            True\n",
      "28  2022-01-12     Miami         22.6     USA           False\n",
      "29  2022-01-13     Miami         19.7     USA           False\n",
      "30  2022-01-14     Miami         20.2     USA           False\n",
      "31  2022-01-15     Miami         21.5     USA           False\n",
      "32  2022-01-16     Miami         23.9     USA            True\n",
      "33  2022-01-17     Miami         25.3     USA            True\n"
     ]
    }
   ],
   "source": [
    "# Load the cities.csv file into a pandas DataFrame\n",
    "df_cities = pd.read_csv('cities.csv')\n",
    "\n",
    "# Merge the two DataFrames on the common column city\n",
    "df_merged = pd.merge(df, df_cities, on='city')\n",
    "\n",
    "# drop the latitude and longitude columns before we didnt need these\n",
    "df_merged = df_merged.drop([\"latitude\", \"longitude\"], axis=1)\n",
    "\n",
    "# Create a new column indicating whether the temperature was above or below the average temperature for that city\n",
    "df_merged['above_avg_temp'] = df_merged['temperature'] > df_merged['city'].map(avg_temperatures)\n",
    "\n",
    "# Print the merged DataFrame with the new column\n",
    "print(df_merged)\n"
   ]
  },
  {
   "cell_type": "code",
   "execution_count": null,
   "id": "4cad760f",
   "metadata": {},
   "outputs": [],
   "source": []
  }
 ],
 "metadata": {
  "kernelspec": {
   "display_name": "Python 3 (ipykernel)",
   "language": "python",
   "name": "python3"
  },
  "language_info": {
   "codemirror_mode": {
    "name": "ipython",
    "version": 3
   },
   "file_extension": ".py",
   "mimetype": "text/x-python",
   "name": "python",
   "nbconvert_exporter": "python",
   "pygments_lexer": "ipython3",
   "version": "3.9.12"
  }
 },
 "nbformat": 4,
 "nbformat_minor": 5
}
