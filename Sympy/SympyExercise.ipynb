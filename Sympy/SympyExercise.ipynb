{
 "cells": [
  {
   "cell_type": "markdown",
   "metadata": {
    "pycharm": {
     "name": "#%% md\n"
    }
   },
   "source": [
    "# Sympy Exercise\n",
    "__Author__ : Mahdi Firouz 400222072\n",
    "\n",
    "__Course__ : Undergraduate Numerical Analysis Course"
   ]
  },
  {
   "cell_type": "code",
   "execution_count": null,
   "outputs": [],
   "source": [
    "import sympy as sp\n",
    "from IPython.display import display"
   ],
   "metadata": {
    "collapsed": false,
    "pycharm": {
     "name": "#%%\n"
    }
   }
  },
  {
   "cell_type": "markdown",
   "source": [
    "### Question Number 1: Symbolic Differentiation\n",
    "**Find the derivative of the following functions using Sympy:**\n",
    "<br/>\n",
    "(a) $\\mathbf{f(x) = x^3 - 2x^2 + 5x - 7}$\n",
    "<br/>\n",
    "(b) $\\mathbf{g(x) = \\frac{1}{x ^ 2 + 1}}$\n",
    "<br/>\n",
    "(c) $\\mathbf{h(x) = e^{2x}cos(x)}$"
   ],
   "metadata": {
    "collapsed": false,
    "pycharm": {
     "name": "#%% md\n"
    }
   }
  },
  {
   "cell_type": "code",
   "execution_count": null,
   "outputs": [],
   "source": [
    "x = sp.Symbol('x')\n",
    "f = x**3 + 2*x**2 + 5*x - 7\n",
    "g = 1 / (x**2 + 1)\n",
    "h = sp.exp(2*x) * sp.cos(x)\n",
    "\n",
    "# calculate derivatives\n",
    "df = f.diff(x)\n",
    "dg = g.diff(x)\n",
    "dh = h.diff(x)\n",
    "\n",
    "# print the results\n",
    "display(sp.Eq(sp.Symbol('f\\'(x)'), df))\n",
    "display(sp.Eq(sp.Symbol('g\\'(x)'), dg))\n",
    "display(sp.Eq(sp.Symbol('h\\'(x)'), dh))"
   ],
   "metadata": {
    "collapsed": false,
    "pycharm": {
     "name": "#%%\n"
    }
   }
  },
  {
   "cell_type": "markdown",
   "source": [
    "### Question Number 2 : Symbolic Integration\n",
    "**Find the indefinite integral of the following functions using Sympy:**\n",
    "<br/>\n",
    "(a) $\\mathbf{f(x) = 2x + 5}$\n",
    "<br/>\n",
    "(b) $\\mathbf{g(x) = \\frac{1}{x ^ 2 + 1}}$\n",
    "<br/>\n",
    "(c) $\\mathbf{h(x) = \\frac{x ^ 3}{3} − 2x ^ 2 + 5x − 7}$"
   ],
   "metadata": {
    "collapsed": false,
    "pycharm": {
     "name": "#%% md\n"
    }
   }
  },
  {
   "cell_type": "code",
   "execution_count": null,
   "outputs": [],
   "source": [
    "x = sp.Symbol('x')\n",
    "f = 2*x + 5\n",
    "g = 1 / (x**2 + 1)\n",
    "h = (x**3/3) - 2*x**2 + 5*x - 7\n",
    "\n",
    "intf = sp.integrate(f, x)\n",
    "intg = sp.integrate(g, x)\n",
    "inth = sp.integrate(h, x)\n",
    "\n",
    "display(sp.Eq(sp.Symbol('∫f(x) dx'), intf))\n",
    "display(sp.Eq(sp.Symbol('∫g(x) dx'), intg))\n",
    "display(sp.Eq(sp.Symbol('∫h(x) dx'), inth))"
   ],
   "metadata": {
    "collapsed": false,
    "pycharm": {
     "name": "#%%\n"
    }
   }
  },
  {
   "cell_type": "markdown",
   "source": [
    "### Question Number 3 : Solving Equations\n",
    "**Solve the following equations using Sympy:**\n",
    "<br/>\n",
    "(a) $\\mathbf{x ^ 2 - 3x + 2 = 0}$\n",
    "<br/>\n",
    "(b) $\\mathbf{e ^ {x} + x - 1 = 0}$\n",
    "<br/>\n",
    "(c) $\\mathbf{cos(x) = \\frac{1}{2}}$"
   ],
   "metadata": {
    "collapsed": false,
    "pycharm": {
     "name": "#%% md\n"
    }
   }
  },
  {
   "cell_type": "code",
   "execution_count": null,
   "outputs": [],
   "source": [
    "x = sp.symbols('x')\n",
    "\n",
    "# define equations and solve thats\n",
    "eq_a = sp.Eq(x**2 - 3*x + 2, 0)\n",
    "sol_a = sp.solve(eq_a, x)\n",
    "eq_b = sp.Eq(sp.exp(x) + x - 1, 0)\n",
    "sol_b = sp.solve(eq_b, x)\n",
    "eq_c = sp.Eq(sp.cos(x), 1/2)\n",
    "sol_c = sp.solve(eq_c, x)\n",
    "\n",
    "# print the solutions\n",
    "print(\"(a) -> x =\", sol_a)\n",
    "print(\"(b) -> x =\", sol_b)\n",
    "print(\"(c) -> x =\", sol_c)"
   ],
   "metadata": {
    "collapsed": false,
    "pycharm": {
     "name": "#%%\n"
    }
   }
  },
  {
   "cell_type": "markdown",
   "source": [
    "## Question Number 4 : Advanced Sympy\n",
    "**Use Sympy to find the first 10 terms of the Fourier series of the following function over the in terval [−π, π]:**\n",
    "<br/>\n",
    "$\\mathbf{f(x) =\n",
    "\\begin{cases}\n",
    "  0 & \\text{, } -\\pi \\leq x < 0 \\\\\n",
    "  1 & \\text{, } 0 \\leq x < \\pi\n",
    "\\end{cases}}$"
   ],
   "metadata": {
    "collapsed": false,
    "pycharm": {
     "name": "#%% md\n"
    }
   }
  },
  {
   "cell_type": "code",
   "execution_count": null,
   "outputs": [],
   "source": [
    "x = sp.symbols('x')\n",
    "expr = sp.Piecewise(\n",
    "    (0,(x >= -sp.pi) & (x < 0)),\n",
    "    (1, (x >= 0) & (x < sp.pi))\n",
    ")\n",
    "fourier_series_expr = sp.fourier_series(expr, (x, -sp.pi, sp.pi))\n",
    "fourier_series_expr.truncate(10)"
   ],
   "metadata": {
    "collapsed": false,
    "pycharm": {
     "name": "#%%\n"
    }
   }
  },
  {
   "cell_type": "markdown",
   "source": [
    "## Question Number 5 : Application of Sympy (Bonus Question)\n",
    "**Use Sympy to solve the following problem:**\n",
    "<br />\n",
    "A particle moves along the x-axis according to the equation x = 3 sin(t) − 4 sin(2t), where t is time. Find the velocity and acceleration of the particle as functions of time."
   ],
   "metadata": {
    "collapsed": false,
    "pycharm": {
     "name": "#%% md\n"
    }
   }
  },
  {
   "cell_type": "code",
   "execution_count": null,
   "outputs": [],
   "source": [
    "x = sp.symbols('x')\n",
    "t = sp.symbols('t')\n",
    "x = 3*sp.sin(t) - 4*sp.sin(2*t)\n",
    "\n",
    "# Calculate the velocity\n",
    "v = sp.diff(x, t)\n",
    "\n",
    "# Calculate the acceleration\n",
    "a = sp.diff(v, t)\n",
    "\n",
    "# Print the results\n",
    "display(sp.Eq(sp.Symbol('Velocity'), v))\n",
    "display(sp.Eq(sp.Symbol('Acceleration'), a))"
   ],
   "metadata": {
    "collapsed": false,
    "pycharm": {
     "name": "#%%\n"
    }
   }
  },
  {
   "cell_type": "markdown",
   "metadata": {
    "pycharm": {
     "name": "#%% md\n"
    }
   },
   "source": [
    "## Question Number 4 : Advanced Sympy\n",
    "**Use Sympy to find the first 10 terms of the Fourier series of the following function over the in terval [−π, π]:**\n",
    "<br/>\n",
    "$\\mathbf{f(x) =\n",
    "\\begin{cases}\n",
    "  0 & \\text{, } -\\pi \\leq x < 0 \\\\\n",
    "  1 & \\text{, } 0 \\leq x < \\pi\n",
    "\\end{cases}}$"
   ]
  },
  {
   "cell_type": "code",
   "execution_count": 33,
   "metadata": {},
   "outputs": [
    {
     "data": {
      "text/latex": [
       "$\\displaystyle \\frac{2 \\sin{\\left(x \\right)}}{\\pi} + \\frac{2 \\sin{\\left(3 x \\right)}}{3 \\pi} + \\frac{2 \\sin{\\left(5 x \\right)}}{5 \\pi} + \\frac{2 \\sin{\\left(7 x \\right)}}{7 \\pi} + \\frac{2 \\sin{\\left(9 x \\right)}}{9 \\pi} + \\frac{2 \\sin{\\left(11 x \\right)}}{11 \\pi} + \\frac{2 \\sin{\\left(13 x \\right)}}{13 \\pi} + \\frac{2 \\sin{\\left(15 x \\right)}}{15 \\pi} + \\frac{2 \\sin{\\left(17 x \\right)}}{17 \\pi} + \\frac{1}{2}$"
      ],
      "text/plain": [
       "2*sin(x)/pi + 2*sin(3*x)/(3*pi) + 2*sin(5*x)/(5*pi) + 2*sin(7*x)/(7*pi) + 2*sin(9*x)/(9*pi) + 2*sin(11*x)/(11*pi) + 2*sin(13*x)/(13*pi) + 2*sin(15*x)/(15*pi) + 2*sin(17*x)/(17*pi) + 1/2"
      ]
     },
     "execution_count": 33,
     "metadata": {},
     "output_type": "execute_result"
    }
   ],
   "source": [
    "x = sp.symbols('x')\n",
    "expr = sp.Piecewise(\n",
    "    (0,(x >= -sp.pi) & (x < 0)),\n",
    "    (1, (x >= 0) & (x < sp.pi))\n",
    ")\n",
    "fourier_series_expr = sp.fourier_series(expr, (x, -sp.pi, sp.pi))\n",
    "fourier_series_expr.truncate(10)"
   ]
  },
  {
   "cell_type": "markdown",
   "metadata": {
    "pycharm": {
     "name": "#%% md\n"
    }
   },
   "source": [
    "## Question Number 5 : Application of Sympy (Bonus Question)\n",
    "**Use Sympy to solve the following problem:**\n",
    "<br />\n",
    "A particle moves along the x-axis according to the equation x = 3 sin(t) − 4 sin(2t), where t is time. Find the velocity and acceleration of the particle as functions of time."
   ]
  },
  {
   "cell_type": "code",
   "execution_count": 37,
   "metadata": {
    "scrolled": true
   },
   "outputs": [
    {
     "data": {
      "text/latex": [
       "$\\displaystyle Velocity = 3 \\cos{\\left(t \\right)} - 8 \\cos{\\left(2 t \\right)}$"
      ],
      "text/plain": [
       "Eq(Velocity, 3*cos(t) - 8*cos(2*t))"
      ]
     },
     "metadata": {},
     "output_type": "display_data"
    },
    {
     "data": {
      "text/latex": [
       "$\\displaystyle Acceleration = - 3 \\sin{\\left(t \\right)} + 16 \\sin{\\left(2 t \\right)}$"
      ],
      "text/plain": [
       "Eq(Acceleration, -3*sin(t) + 16*sin(2*t))"
      ]
     },
     "metadata": {},
     "output_type": "display_data"
    }
   ],
   "source": [
    "x = sp.symbols('x')\n",
    "t = sp.symbols('t')\n",
    "x = 3*sp.sin(t) - 4*sp.sin(2*t)\n",
    "\n",
    "# Calculate the velocity\n",
    "v = sp.diff(x, t)\n",
    "\n",
    "# Calculate the acceleration\n",
    "a = sp.diff(v, t)\n",
    "\n",
    "# Print the results\n",
    "display(sp.Eq(sp.Symbol('Velocity'), v))\n",
    "display(sp.Eq(sp.Symbol('Acceleration'), a))"
   ]
  },
  {
   "cell_type": "code",
   "execution_count": null,
   "metadata": {},
   "outputs": [],
   "source": []
  }
 ],
 "metadata": {
  "kernelspec": {
   "display_name": "Python 3 (ipykernel)",
   "language": "python",
   "name": "python3"
  },
  "language_info": {
   "codemirror_mode": {
    "name": "ipython",
    "version": 3
   },
   "file_extension": ".py",
   "mimetype": "text/x-python",
   "name": "python",
   "nbconvert_exporter": "python",
   "pygments_lexer": "ipython3",
   "version": "3.9.12"
  }
 },
 "nbformat": 4,
 "nbformat_minor": 1
}